{
 "cells": [
  {
   "cell_type": "markdown",
   "metadata": {},
   "source": [
    "## Linear Algebra\n",
    "\n",
    "    - Linear algebra is the branch of mathematics that deals with vector spaces.\n",
    "\n",
    "\n",
    "#### Vectors\n",
    "\n",
    "    - Vectors are objects that can be added together (to form new vectors) and that can be multiplied by scalars (i.e., numbers), also to form new vectors."
   ]
  },
  {
   "cell_type": "code",
   "execution_count": 2,
   "metadata": {},
   "outputs": [],
   "source": [
    "#3D Vector\n",
    "height_weight_age = [70,170,40 ] #inche pound years\n",
    "\n",
    "#4D Vector\n",
    "grades = [95,80,75,62] #1exam 2exam 3exam 4exam \n",
    "\n"
   ]
  },
  {
   "cell_type": "markdown",
   "metadata": {},
   "source": [
    "\n",
    "\n",
    "\n",
    "    - we will want to perform arithmetic on vectors. Because Python lists aren’t vectors,we’ll need to build these arithmetic tools ourselves.\n",
    "    \n",
    "    \n",
    "    "
   ]
  },
  {
   "cell_type": "code",
   "execution_count": 3,
   "metadata": {},
   "outputs": [
    {
     "name": "stdout",
     "output_type": "stream",
     "text": [
      "Addition of two vectors --->  [3, 3]\n",
      "subtraction of two vectors --->  [-1, 1]\n"
     ]
    }
   ],
   "source": [
    "# add and subtract two vectores\n",
    "# we can add vectors with the same length\n",
    "\n",
    "v = [1,2]\n",
    "w = [2,1]\n",
    "\n",
    "def vector_add(v,w):\n",
    "    '''Add two vectors'''\n",
    "    return [v_i + w_i for v_i, w_i in zip(v,w)]\n",
    "\n",
    "\n",
    "def vector_subtract(v,w):\n",
    "    '''Subtract two vectors'''\n",
    "    return [v_i - w_i for v_i, w_i in zip(v,w)]\n",
    "\n",
    "print('Addition of two vectors ---> ',vector_add(v,w))\n",
    "print('subtraction of two vectors ---> ',vector_subtract(v,w))"
   ]
  },
  {
   "cell_type": "code",
   "execution_count": 4,
   "metadata": {},
   "outputs": [
    {
     "data": {
      "text/plain": [
       "[21, 27]"
      ]
     },
     "execution_count": 4,
     "metadata": {},
     "output_type": "execute_result"
    }
   ],
   "source": [
    "# Calculate the sum of all vectors\n",
    "\n",
    "def vector_sum(vectors):\n",
    "    '''sums all corresponding elements'''\n",
    "    result = vectors[0] # first vector value\n",
    "    \n",
    "    for vector in vectors[1:]: #starts from second element of vector list\n",
    "        result = vector_add(result, vector)\n",
    "    return result\n",
    "\n",
    "\n",
    "\n",
    "\n",
    "# example:\n",
    "\n",
    "list_vectors = [[1,2],[2,3],[3,4],[4,5],[5,6],[6,7]]\n",
    "\n",
    "vector_sum(list_vectors) # result of vector sum function"
   ]
  },
  {
   "cell_type": "code",
   "execution_count": null,
   "metadata": {},
   "outputs": [],
   "source": []
  }
 ],
 "metadata": {
  "celltoolbar": "Raw Cell Format",
  "kernelspec": {
   "display_name": "Python 3",
   "language": "python",
   "name": "python3"
  },
  "language_info": {
   "codemirror_mode": {
    "name": "ipython",
    "version": 3
   },
   "file_extension": ".py",
   "mimetype": "text/x-python",
   "name": "python",
   "nbconvert_exporter": "python",
   "pygments_lexer": "ipython3",
   "version": "3.7.6"
  }
 },
 "nbformat": 4,
 "nbformat_minor": 4
}
