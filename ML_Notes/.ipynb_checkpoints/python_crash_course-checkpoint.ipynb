{
 "cells": [
  {
   "cell_type": "code",
   "execution_count": null,
   "metadata": {},
   "outputs": [],
   "source": [
    "# Python is a Scripting Language which has two versions Python3 & Python2.7\n",
    "# Developed by G.V.Rossum in Late 80's\n",
    "# Published in 1992 with an open source license "
   ]
  },
  {
   "cell_type": "code",
   "execution_count": null,
   "metadata": {},
   "outputs": [],
   "source": [
    "# What we can do with Python?\n",
    "\n",
    "# 1. Development Field\n",
    "#         1. Desktop App/software using TKinter, PyQt and WXPython Frameworks\n",
    "#         2. Web Apps using Djnago and Flask Frameworks\n",
    "#         3. Mobile Apps using Kivy Framework (its gonna be a Hybrid App)\n",
    "\n",
    "\n",
    "# 2. Data Science \n",
    "#         1. Big Data using Spark or Hadoop clusters)\n",
    "#         2. Machine Learning \n",
    "#         3. Deep Learning\n",
    "#         4. NLP\n",
    "#         5. Computer Vision"
   ]
  },
  {
   "cell_type": "code",
   "execution_count": null,
   "metadata": {},
   "outputs": [],
   "source": [
    "# you can find out the designing principal of python"
   ]
  },
  {
   "cell_type": "code",
   "execution_count": 1,
   "metadata": {},
   "outputs": [
    {
     "name": "stdout",
     "output_type": "stream",
     "text": [
      "The Zen of Python, by Tim Peters\n",
      "\n",
      "Beautiful is better than ugly.\n",
      "Explicit is better than implicit.\n",
      "Simple is better than complex.\n",
      "Complex is better than complicated.\n",
      "Flat is better than nested.\n",
      "Sparse is better than dense.\n",
      "Readability counts.\n",
      "Special cases aren't special enough to break the rules.\n",
      "Although practicality beats purity.\n",
      "Errors should never pass silently.\n",
      "Unless explicitly silenced.\n",
      "In the face of ambiguity, refuse the temptation to guess.\n",
      "There should be one-- and preferably only one --obvious way to do it.\n",
      "Although that way may not be obvious at first unless you're Dutch.\n",
      "Now is better than never.\n",
      "Although never is often better than *right* now.\n",
      "If the implementation is hard to explain, it's a bad idea.\n",
      "If the implementation is easy to explain, it may be a good idea.\n",
      "Namespaces are one honking great idea -- let's do more of those!\n"
     ]
    }
   ],
   "source": [
    "import this"
   ]
  },
  {
   "cell_type": "code",
   "execution_count": null,
   "metadata": {},
   "outputs": [],
   "source": [
    "# variable : - a memory location where user can store their data and giv it an identity \n",
    "\n",
    "# data type : - a perticular kind of data which we can store using variable \n",
    "    \n",
    "# assignment operator : - the sign which is used to assign values on variables \n",
    "    \n",
    "# example: - \n",
    "    \n",
    "#     a  =  10\n",
    "    \n",
    "# where 'a' is variable, '=' is a assignment operator and '10' is an integer value which we wanna store on \n",
    "# the variable 'a'\n",
    "\n",
    "# Many languages use curly braces to delimit blocks of code. Python uses indentation\n"
   ]
  },
  {
   "cell_type": "code",
   "execution_count": 43,
   "metadata": {},
   "outputs": [
    {
     "name": "stdout",
     "output_type": "stream",
     "text": [
      "is zero persent in z list : --->  True\n",
      "is nine persent in z list : --->  False\n"
     ]
    },
    {
     "data": {
      "text/plain": [
       "dict_values([80, 95])"
      ]
     },
     "execution_count": 43,
     "metadata": {},
     "output_type": "execute_result"
    }
   ],
   "source": [
    "# list\n",
    "\n",
    "# a list is simply an ordered collection. \n",
    "# it a kind of array but with some added functionality\n",
    "\n",
    "a = [1,2,3]   #homogeneous data list\n",
    "b = [1,2.2,'hello']   #heterogeneous data list\n",
    "\n",
    "# dir(a) find out the methods which we can perform on list object\n",
    "\n",
    "sum(a)\n",
    "len(b)\n",
    "\n",
    "\n",
    "x = range(5)\n",
    "m = x[0]\n",
    "n = x[1]\n",
    "o = x[-1]\n",
    "\n",
    "# print(m,n,o)\n",
    "\n",
    "\n",
    "z = []\n",
    "for i in x:\n",
    "    z.append(i)\n",
    "    \n",
    "# slicing data from a list\n",
    "\n",
    "p = z[:2]\n",
    "q = z[1:3]\n",
    "r = z[1:]\n",
    "\n",
    "# print(z)\n",
    "# print(p)\n",
    "# print(q)\n",
    "# print(r)\n",
    "\n",
    "\n",
    "# check list members\n",
    "print('is zero persent in z list : ---> ',0 in z)\n",
    "print('is nine persent in z list : ---> ',9 in z)\n",
    "\n",
    "\n",
    "\n",
    "\n",
    "# Tuple is a immutable list which we cant change or modify once we create it.\n",
    "\n",
    "\n",
    "# Dictionary is a list which stores key value pair. where value associates with a key\n",
    "grades = { \"Joel\" : 80, \"Tim\" : 95 }\n",
    "\n",
    "grades.keys()\n",
    "grades.values()"
   ]
  },
  {
   "cell_type": "code",
   "execution_count": null,
   "metadata": {},
   "outputs": [],
   "source": [
    "# sets\n",
    "\n",
    "# Another data structure is set, which represents a collection of distinct elements:\n",
    "\n",
    "s = set()\n",
    "\n",
    "s.add(1) # s is now { 1 }\n",
    "s.add(2) # s is now { 1, 2 }\n",
    "s.add(2) # s is still { 1, 2 }\n",
    "\n",
    "x = len(s) # equals 2\n",
    "y = 2 in s # equals True\n",
    "z = 3 in s # equals False\n",
    "\n",
    "\n",
    "# We’ll use sets for two main reasons. find the distinct item or very fast operation"
   ]
  },
  {
   "cell_type": "code",
   "execution_count": 56,
   "metadata": {},
   "outputs": [
    {
     "name": "stdout",
     "output_type": "stream",
     "text": [
      "one is less than two --->  True\n",
      "compare using is --->  True\n",
      "boolean for y --->  False\n"
     ]
    }
   ],
   "source": [
    "# truthiness or boolean expression\n",
    "\n",
    "print('one is less than two ---> ',1<2)\n",
    "\n",
    "x = 10\n",
    "print('compare using is ---> ',x is 10)\n",
    "\n",
    "y = True == False\n",
    "print('boolean for y ---> ', y)"
   ]
  },
  {
   "cell_type": "code",
   "execution_count": 21,
   "metadata": {},
   "outputs": [],
   "source": [
    "# sorting\n",
    "x = [9,8,6,7,6,3,5,7,4,6,5,3]\n",
    "# sorted(x)"
   ]
  },
  {
   "cell_type": "code",
   "execution_count": 25,
   "metadata": {},
   "outputs": [
    {
     "data": {
      "text/plain": [
       "[0, 2, 4, 6, 8]"
      ]
     },
     "execution_count": 25,
     "metadata": {},
     "output_type": "execute_result"
    }
   ],
   "source": [
    "# list comprehensions\n",
    "\n",
    "# a = [x for x in range(10)]\n",
    "# a = [x**x for x in range(10)]\n",
    "a = [x for x in range(10) if x%2 is 0] # x % 2 == 0\n",
    "a"
   ]
  },
  {
   "cell_type": "code",
   "execution_count": 33,
   "metadata": {},
   "outputs": [
    {
     "name": "stdout",
     "output_type": "stream",
     "text": [
      "0\n",
      "0\n",
      "1\n",
      "1\n",
      "2\n",
      "2\n",
      "3\n",
      "3\n",
      "4\n",
      "4\n",
      "5\n",
      "5\n",
      "6\n",
      "6\n",
      "7\n",
      "7\n",
      "8\n",
      "8\n",
      "9\n",
      "9\n"
     ]
    }
   ],
   "source": [
    "# generator \n",
    "\n",
    "# A generator is something that you can iterate over but\n",
    "# whose values are produced only as needed\n",
    "\n",
    "\n",
    "# One way to create generators is with functions and the yield operator\n",
    "\n",
    "def lazyrange(n):\n",
    "    i = 0\n",
    "    while i < n:\n",
    "        yield i\n",
    "        i +=1\n",
    "        \n",
    "    \n",
    "for i in lazyrange(10):\n",
    "    print(i)"
   ]
  },
  {
   "cell_type": "code",
   "execution_count": 11,
   "metadata": {},
   "outputs": [
    {
     "data": {
      "text/plain": [
       "5"
      ]
     },
     "execution_count": 11,
     "metadata": {},
     "output_type": "execute_result"
    }
   ],
   "source": [
    "# functions in python \n",
    "\n",
    "\n",
    "# function is a set of instructions or we can say function is a rule for taking\n",
    "# zero or more inputs and returning a corresponding output\n",
    "\n",
    "# like: \n",
    "\n",
    "def double(x):\n",
    "    '''multiple the number with 2'''\n",
    "    return x*2\n",
    "\n",
    "# we can store python functions on a variable\n",
    "\n",
    "def apply_to_one(f):\n",
    "    '''this function apply 1 as a input in a f function'''\n",
    "    return f(1)\n",
    "\n",
    "\n",
    "# my_double = double\n",
    "# x= apply_to_one(my_double)\n",
    "\n",
    "x = apply_to_one(double)\n",
    "x\n",
    "\n",
    "\n",
    "# we can also write short anonymous function.... lambdas\n",
    "\n",
    "y = apply_to_one(lambda x:x+4)\n",
    "y"
   ]
  },
  {
   "cell_type": "code",
   "execution_count": 13,
   "metadata": {},
   "outputs": [
    {
     "name": "stdout",
     "output_type": "stream",
     "text": [
      "normal lambda output :  4\n",
      "def function output: 4\n"
     ]
    }
   ],
   "source": [
    "another_double = lambda x : x*2\n",
    "\n",
    "def another_double_def(x): return x*2\n",
    "\n",
    "print(\"normal lambda output : \",another_double(2))\n",
    "\n",
    "print(\"def function output:\", another_double_def(2))\n"
   ]
  },
  {
   "cell_type": "code",
   "execution_count": 16,
   "metadata": {},
   "outputs": [
    {
     "name": "stdout",
     "output_type": "stream",
     "text": [
      "run function with the default argument ---> hello world\n",
      "run the function with different input or argument ---> wassup everybody\n"
     ]
    }
   ],
   "source": [
    "# we can pass default argument in a functions perameter \n",
    "\n",
    "def myfunction(txt='hello world'):\n",
    "    '''simply returns the hello world string or txt'''\n",
    "    return txt\n",
    "\n",
    "print('run function with the default argument --->',myfunction())\n",
    "print('run the function with different input or argument --->', myfunction('wassup everybody'))"
   ]
  },
  {
   "cell_type": "code",
   "execution_count": 21,
   "metadata": {},
   "outputs": [
    {
     "data": {
      "text/plain": [
       "2"
      ]
     },
     "execution_count": 21,
     "metadata": {},
     "output_type": "execute_result"
    }
   ],
   "source": [
    "def subtract(a=0,b=0):\n",
    "    '''subtract function for two numbers'''\n",
    "    return a - b\n",
    "\n",
    "# subtract()\n",
    "# subtract(a=5)\n",
    "# subtract(a=0,b=5)\n",
    "subtract(a=9,b=7)"
   ]
  },
  {
   "cell_type": "code",
   "execution_count": 22,
   "metadata": {},
   "outputs": [
    {
     "name": "stdout",
     "output_type": "stream",
     "text": [
      "division by zero\n"
     ]
    }
   ],
   "source": [
    "# exception handling\n",
    "\n",
    "a = 10\n",
    "b = 0\n",
    "try:\n",
    "    print(a/b)\n",
    "\n",
    "# except:\n",
    "#     print('some error')\n",
    "\n",
    "# except ZeroDivisionError:\n",
    "#     print(\"cant divide by zero\")\n",
    "\n",
    "except ZeroDivisionError as msg:\n",
    "    print(msg)"
   ]
  }
 ],
 "metadata": {
  "kernelspec": {
   "display_name": "Python 3",
   "language": "python",
   "name": "python3"
  },
  "language_info": {
   "codemirror_mode": {
    "name": "ipython",
    "version": 3
   },
   "file_extension": ".py",
   "mimetype": "text/x-python",
   "name": "python",
   "nbconvert_exporter": "python",
   "pygments_lexer": "ipython3",
   "version": "3.7.6"
  }
 },
 "nbformat": 4,
 "nbformat_minor": 4
}
