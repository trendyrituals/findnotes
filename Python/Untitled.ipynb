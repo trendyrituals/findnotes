{
 "cells": [
  {
   "cell_type": "code",
   "execution_count": null,
   "metadata": {},
   "outputs": [],
   "source": [
    "# Python is a Scripting Language which has two versions Python3 & Python2.7\n",
    "# Developed by G.V.Rossum in Late 80's\n",
    "# Published in 1992 with an open source license "
   ]
  },
  {
   "cell_type": "code",
   "execution_count": null,
   "metadata": {},
   "outputs": [],
   "source": [
    "# What we can do with Python?\n",
    "\n",
    "# 1. Development Field\n",
    "#         1. Desktop App/software using TKinter, PyQt and WXPython Frameworks\n",
    "#         2. Web Apps using Djnago and Flask Frameworks\n",
    "#         3. Mobile Apps using Kivy Framework (its gonna be a Hybrid App)\n",
    "\n",
    "\n",
    "# 2. Data Science \n",
    "#         1. Big Data using Spark or Hadoop clusters)\n",
    "#         2. Machine Learning \n",
    "#         3. Deep Learning\n",
    "#         4. NLP\n",
    "#         5. Computer Vision"
   ]
  },
  {
   "cell_type": "code",
   "execution_count": 1,
   "metadata": {},
   "outputs": [
    {
     "name": "stdout",
     "output_type": "stream",
     "text": [
      "Hello World\n"
     ]
    }
   ],
   "source": [
    "# variable : - a memory location where user can store their data and giv it an identity \n",
    "\n",
    "# data type : - a perticular kind of data which we can store using variable \n",
    "    \n",
    "# assignment operator : - the sign which is used to assign values on variables \n",
    "    \n",
    "# example: - \n",
    "    \n",
    "#     a  =  10\n",
    "    \n",
    "# where 'a' is variable, '=' is a assignment operator and '10' is an integer value which we wanna store on \n",
    "# the variable 'a'\n"
   ]
  }
 ],
 "metadata": {
  "kernelspec": {
   "display_name": "Python 3",
   "language": "python",
   "name": "python3"
  },
  "language_info": {
   "codemirror_mode": {
    "name": "ipython",
    "version": 3
   },
   "file_extension": ".py",
   "mimetype": "text/x-python",
   "name": "python",
   "nbconvert_exporter": "python",
   "pygments_lexer": "ipython3",
   "version": "3.7.6"
  }
 },
 "nbformat": 4,
 "nbformat_minor": 4
}
